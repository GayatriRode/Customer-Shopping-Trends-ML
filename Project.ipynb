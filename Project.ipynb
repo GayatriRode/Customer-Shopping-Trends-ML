{
 "cells": [
  {
   "cell_type": "code",
   "execution_count": 2,
   "id": "00607a20",
   "metadata": {},
   "outputs": [],
   "source": [
    "import numpy as np\n",
    "import pandas as pd\n",
    "import seaborn as sns \n",
    "import matplotlib.pyplot as plt \n",
    "from sklearn.preprocessing import LabelEncoder"
   ]
  },
  {
   "cell_type": "code",
   "execution_count": 3,
   "id": "f95343e4",
   "metadata": {},
   "outputs": [],
   "source": [
    "data=pd.read_csv(\"Amazon Sale Report.csv\")"
   ]
  },
  {
   "cell_type": "code",
   "execution_count": 4,
   "id": "da5d9b58",
   "metadata": {},
   "outputs": [
    {
     "data": {
      "text/plain": [
       "(10003, 12)"
      ]
     },
     "execution_count": 4,
     "metadata": {},
     "output_type": "execute_result"
    }
   ],
   "source": [
    "data.shape"
   ]
  },
  {
   "cell_type": "code",
   "execution_count": 5,
   "id": "b1f349f5",
   "metadata": {},
   "outputs": [
    {
     "data": {
      "text/html": [
       "<div>\n",
       "<style scoped>\n",
       "    .dataframe tbody tr th:only-of-type {\n",
       "        vertical-align: middle;\n",
       "    }\n",
       "\n",
       "    .dataframe tbody tr th {\n",
       "        vertical-align: top;\n",
       "    }\n",
       "\n",
       "    .dataframe thead th {\n",
       "        text-align: right;\n",
       "    }\n",
       "</style>\n",
       "<table border=\"1\" class=\"dataframe\">\n",
       "  <thead>\n",
       "    <tr style=\"text-align: right;\">\n",
       "      <th></th>\n",
       "      <th>index</th>\n",
       "      <th>OrderID</th>\n",
       "      <th>Date</th>\n",
       "      <th>Status</th>\n",
       "      <th>Fulfilment</th>\n",
       "      <th>Category</th>\n",
       "      <th>CourierStatus</th>\n",
       "      <th>Qty</th>\n",
       "      <th>Amount</th>\n",
       "      <th>shipstate</th>\n",
       "      <th>shippostalcode</th>\n",
       "      <th>B2B</th>\n",
       "    </tr>\n",
       "  </thead>\n",
       "  <tbody>\n",
       "    <tr>\n",
       "      <th>0</th>\n",
       "      <td>0</td>\n",
       "      <td>405-8078784-5731545</td>\n",
       "      <td>4/30/2022</td>\n",
       "      <td>Cancelled</td>\n",
       "      <td>Merchant</td>\n",
       "      <td>Set</td>\n",
       "      <td>Cancelled</td>\n",
       "      <td>0</td>\n",
       "      <td>647.62</td>\n",
       "      <td>MAHARASHTRA</td>\n",
       "      <td>400081.0</td>\n",
       "      <td>False</td>\n",
       "    </tr>\n",
       "    <tr>\n",
       "      <th>1</th>\n",
       "      <td>1</td>\n",
       "      <td>171-9198151-1101146</td>\n",
       "      <td>4/30/2022</td>\n",
       "      <td>Shipped - Delivered to Buyer</td>\n",
       "      <td>Merchant</td>\n",
       "      <td>kurta</td>\n",
       "      <td>Shipped</td>\n",
       "      <td>1</td>\n",
       "      <td>406.00</td>\n",
       "      <td>KARNATAKA</td>\n",
       "      <td>560085.0</td>\n",
       "      <td>False</td>\n",
       "    </tr>\n",
       "    <tr>\n",
       "      <th>2</th>\n",
       "      <td>2</td>\n",
       "      <td>404-0687676-7273146</td>\n",
       "      <td>4/30/2022</td>\n",
       "      <td>Shipped</td>\n",
       "      <td>Amazon</td>\n",
       "      <td>kurta</td>\n",
       "      <td>Shipped</td>\n",
       "      <td>1</td>\n",
       "      <td>329.00</td>\n",
       "      <td>MAHARASHTRA</td>\n",
       "      <td>410210.0</td>\n",
       "      <td>True</td>\n",
       "    </tr>\n",
       "    <tr>\n",
       "      <th>3</th>\n",
       "      <td>3</td>\n",
       "      <td>403-9615377-8133951</td>\n",
       "      <td>4/30/2022</td>\n",
       "      <td>Cancelled</td>\n",
       "      <td>Merchant</td>\n",
       "      <td>Western Dress</td>\n",
       "      <td>Cancelled</td>\n",
       "      <td>0</td>\n",
       "      <td>753.33</td>\n",
       "      <td>PUDUCHERRY</td>\n",
       "      <td>605008.0</td>\n",
       "      <td>False</td>\n",
       "    </tr>\n",
       "    <tr>\n",
       "      <th>4</th>\n",
       "      <td>4</td>\n",
       "      <td>407-1069790-7240320</td>\n",
       "      <td>4/30/2022</td>\n",
       "      <td>Shipped</td>\n",
       "      <td>Amazon</td>\n",
       "      <td>Top</td>\n",
       "      <td>Shipped</td>\n",
       "      <td>1</td>\n",
       "      <td>574.00</td>\n",
       "      <td>TAMIL NADU</td>\n",
       "      <td>600073.0</td>\n",
       "      <td>False</td>\n",
       "    </tr>\n",
       "  </tbody>\n",
       "</table>\n",
       "</div>"
      ],
      "text/plain": [
       "   index              OrderID       Date                        Status  \\\n",
       "0      0  405-8078784-5731545  4/30/2022                     Cancelled   \n",
       "1      1  171-9198151-1101146  4/30/2022  Shipped - Delivered to Buyer   \n",
       "2      2  404-0687676-7273146  4/30/2022                       Shipped   \n",
       "3      3  403-9615377-8133951  4/30/2022                     Cancelled   \n",
       "4      4  407-1069790-7240320  4/30/2022                       Shipped   \n",
       "\n",
       "  Fulfilment       Category CourierStatus  Qty  Amount    shipstate  \\\n",
       "0   Merchant            Set     Cancelled    0  647.62  MAHARASHTRA   \n",
       "1   Merchant          kurta       Shipped    1  406.00    KARNATAKA   \n",
       "2     Amazon          kurta       Shipped    1  329.00  MAHARASHTRA   \n",
       "3   Merchant  Western Dress     Cancelled    0  753.33   PUDUCHERRY   \n",
       "4     Amazon            Top       Shipped    1  574.00   TAMIL NADU   \n",
       "\n",
       "   shippostalcode    B2B  \n",
       "0        400081.0  False  \n",
       "1        560085.0  False  \n",
       "2        410210.0   True  \n",
       "3        605008.0  False  \n",
       "4        600073.0  False  "
      ]
     },
     "execution_count": 5,
     "metadata": {},
     "output_type": "execute_result"
    }
   ],
   "source": [
    "data.head()"
   ]
  },
  {
   "cell_type": "code",
   "execution_count": 6,
   "id": "d52c7e11",
   "metadata": {},
   "outputs": [],
   "source": [
    "le = LabelEncoder()"
   ]
  },
  {
   "cell_type": "code",
   "execution_count": 7,
   "id": "2a4d4b5c",
   "metadata": {},
   "outputs": [
    {
     "data": {
      "text/plain": [
       "index               int64\n",
       "OrderID            object\n",
       "Date               object\n",
       "Status             object\n",
       "Fulfilment         object\n",
       "Category           object\n",
       "CourierStatus      object\n",
       "Qty                 int64\n",
       "Amount            float64\n",
       "shipstate          object\n",
       "shippostalcode    float64\n",
       "B2B                  bool\n",
       "dtype: object"
      ]
     },
     "execution_count": 7,
     "metadata": {},
     "output_type": "execute_result"
    }
   ],
   "source": [
    "data.dtypes"
   ]
  },
  {
   "cell_type": "code",
   "execution_count": 8,
   "id": "b5ac4a2a",
   "metadata": {},
   "outputs": [
    {
     "data": {
      "text/plain": [
       "count    9388.000000\n",
       "mean      623.266006\n",
       "std       272.453080\n",
       "min         0.000000\n",
       "25%       435.000000\n",
       "50%       568.000000\n",
       "75%       771.000000\n",
       "max      2224.000000\n",
       "Name: Amount, dtype: float64"
      ]
     },
     "execution_count": 8,
     "metadata": {},
     "output_type": "execute_result"
    }
   ],
   "source": [
    "data.Amount.describe()"
   ]
  },
  {
   "cell_type": "code",
   "execution_count": 9,
   "id": "eecfd641",
   "metadata": {},
   "outputs": [
    {
     "data": {
      "text/plain": [
       "index               0\n",
       "OrderID             0\n",
       "Date                0\n",
       "Status              0\n",
       "Fulfilment          0\n",
       "Category            0\n",
       "CourierStatus     641\n",
       "Qty                 0\n",
       "Amount            615\n",
       "shipstate           3\n",
       "shippostalcode      3\n",
       "B2B                 0\n",
       "dtype: int64"
      ]
     },
     "execution_count": 9,
     "metadata": {},
     "output_type": "execute_result"
    }
   ],
   "source": [
    "data.isnull().sum()"
   ]
  },
  {
   "cell_type": "code",
   "execution_count": 10,
   "id": "f27b56e9",
   "metadata": {},
   "outputs": [
    {
     "data": {
      "text/plain": [
       "(10003, 12)"
      ]
     },
     "execution_count": 10,
     "metadata": {},
     "output_type": "execute_result"
    }
   ],
   "source": [
    "data.shape"
   ]
  },
  {
   "cell_type": "code",
   "execution_count": 11,
   "id": "0179f123",
   "metadata": {},
   "outputs": [],
   "source": [
    "data.CourierStatus=data.CourierStatus.fillna(\"Cancelled\")\n",
    "data.Amount=data.Amount.fillna(data.Amount.mean())\n",
    "data.shipstate=data.shipstate.fillna(\"Maharashtra\")\n",
    "data.shippostalcode=data.shippostalcode.fillna(444606)\n"
   ]
  },
  {
   "cell_type": "code",
   "execution_count": 12,
   "id": "745841eb",
   "metadata": {},
   "outputs": [
    {
     "data": {
      "text/plain": [
       "index             0\n",
       "OrderID           0\n",
       "Date              0\n",
       "Status            0\n",
       "Fulfilment        0\n",
       "Category          0\n",
       "CourierStatus     0\n",
       "Qty               0\n",
       "Amount            0\n",
       "shipstate         0\n",
       "shippostalcode    0\n",
       "B2B               0\n",
       "dtype: int64"
      ]
     },
     "execution_count": 12,
     "metadata": {},
     "output_type": "execute_result"
    }
   ],
   "source": [
    "data.isnull().sum()"
   ]
  },
  {
   "cell_type": "code",
   "execution_count": 13,
   "id": "7b8da7df",
   "metadata": {},
   "outputs": [],
   "source": [
    "# Data Visualization"
   ]
  },
  {
   "cell_type": "code",
   "execution_count": 14,
   "id": "0b97de81",
   "metadata": {},
   "outputs": [
    {
     "data": {
      "text/plain": [
       "<Axes: ylabel='Amount'>"
      ]
     },
     "execution_count": 14,
     "metadata": {},
     "output_type": "execute_result"
    },
    {
     "data": {
      "image/png": "[encoded data removed]",
      "text/plain": [
       "<Figure size 640x480 with 1 Axes>"
      ]
     },
     "metadata": {},
     "output_type": "display_data"
    }
   ],
   "source": [
    "#creating a boxplot to find outliers\n",
    "sns.boxplot(data=data,y=\"Amount\")"
   ]
  },
  {
   "cell_type": "code",
   "execution_count": 15,
   "id": "a85e224c",
   "metadata": {},
   "outputs": [
    {
     "data": {
      "image/png": "[encoded data removed]",
      "text/plain": [
       "<Figure size 640x480 with 1 Axes>"
      ]
     },
     "metadata": {},
     "output_type": "display_data"
    }
   ],
   "source": [
    "# Scatter Plot\n",
    "\n",
    "x = data.Category\n",
    "y = data.Amount\n",
    "plt.scatter(x, y, c =\"blue\")\n",
    " \n",
    "# To show the plot\n",
    "plt.show()"
   ]
  },
  {
   "cell_type": "code",
   "execution_count": 19,
   "id": "e7147dec",
   "metadata": {},
   "outputs": [
    {
     "data": {
      "image/png": "[encoded data removed]",
      "text/plain": [
       "<Figure size 640x480 with 1 Axes>"
      ]
     },
     "metadata": {},
     "output_type": "display_data"
    }
   ],
   "source": [
    "# creating the bar plot\n",
    "x = data.Qty\n",
    "y = data.Amount\n",
    "plt.bar(x, y, color ='maroon', width = 0.4)\n",
    " \n",
    "plt.show()"
   ]
  },
  {
   "cell_type": "code",
   "execution_count": 20,
   "id": "df8f839f",
   "metadata": {},
   "outputs": [
    {
     "data": {
      "text/plain": [
       "index               int64\n",
       "OrderID            object\n",
       "Date               object\n",
       "Status             object\n",
       "Fulfilment         object\n",
       "Category           object\n",
       "CourierStatus      object\n",
       "Qty                 int64\n",
       "Amount            float64\n",
       "shipstate          object\n",
       "shippostalcode    float64\n",
       "B2B                  bool\n",
       "dtype: object"
      ]
     },
     "execution_count": 20,
     "metadata": {},
     "output_type": "execute_result"
    }
   ],
   "source": [
    "data.dtypes"
   ]
  },
  {
   "cell_type": "code",
   "execution_count": 21,
   "id": "99fb241d",
   "metadata": {},
   "outputs": [],
   "source": [
    "data.OrderID=le.fit_transform(data.OrderID)\n",
    "data.Date=le.fit_transform(data.Date)\n",
    "data.Status=le.fit_transform(data.Status)\n",
    "data.Fulfilment=le.fit_transform(data.Fulfilment)\n",
    "data.Category=le.fit_transform(data.Category)\n",
    "data.CourierStatus=le.fit_transform(data.CourierStatus)\n",
    "data.Qty=le.fit_transform(data.Qty)\n",
    "data.Amount=le.fit_transform(data.Amount)\n",
    "data.shipstate=le.fit_transform(data.shipstate)\n",
    "data.shippostalcode=le.fit_transform(data.shippostalcode)\n",
    "data.B2B=le.fit_transform(data.B2B)"
   ]
  },
  {
   "cell_type": "code",
   "execution_count": 22,
   "id": "157f932e",
   "metadata": {},
   "outputs": [
    {
     "data": {
      "text/html": [
       "<div>\n",
       "<style scoped>\n",
       "    .dataframe tbody tr th:only-of-type {\n",
       "        vertical-align: middle;\n",
       "    }\n",
       "\n",
       "    .dataframe tbody tr th {\n",
       "        vertical-align: top;\n",
       "    }\n",
       "\n",
       "    .dataframe thead th {\n",
       "        text-align: right;\n",
       "    }\n",
       "</style>\n",
       "<table border=\"1\" class=\"dataframe\">\n",
       "  <thead>\n",
       "    <tr style=\"text-align: right;\">\n",
       "      <th></th>\n",
       "      <th>index</th>\n",
       "      <th>OrderID</th>\n",
       "      <th>Date</th>\n",
       "      <th>Status</th>\n",
       "      <th>Fulfilment</th>\n",
       "      <th>Category</th>\n",
       "      <th>CourierStatus</th>\n",
       "      <th>Qty</th>\n",
       "      <th>Amount</th>\n",
       "      <th>shipstate</th>\n",
       "      <th>shippostalcode</th>\n",
       "      <th>B2B</th>\n",
       "    </tr>\n",
       "  </thead>\n",
       "  <tbody>\n",
       "    <tr>\n",
       "      <th>0</th>\n",
       "      <td>0</td>\n",
       "      <td>5516</td>\n",
       "      <td>6</td>\n",
       "      <td>0</td>\n",
       "      <td>1</td>\n",
       "      <td>4</td>\n",
       "      <td>0</td>\n",
       "      <td>0</td>\n",
       "      <td>258</td>\n",
       "      <td>22</td>\n",
       "      <td>879</td>\n",
       "      <td>0</td>\n",
       "    </tr>\n",
       "    <tr>\n",
       "      <th>1</th>\n",
       "      <td>1</td>\n",
       "      <td>1120</td>\n",
       "      <td>6</td>\n",
       "      <td>2</td>\n",
       "      <td>1</td>\n",
       "      <td>7</td>\n",
       "      <td>1</td>\n",
       "      <td>1</td>\n",
       "      <td>85</td>\n",
       "      <td>18</td>\n",
       "      <td>1735</td>\n",
       "      <td>0</td>\n",
       "    </tr>\n",
       "    <tr>\n",
       "      <th>2</th>\n",
       "      <td>2</td>\n",
       "      <td>3564</td>\n",
       "      <td>6</td>\n",
       "      <td>1</td>\n",
       "      <td>0</td>\n",
       "      <td>7</td>\n",
       "      <td>1</td>\n",
       "      <td>1</td>\n",
       "      <td>35</td>\n",
       "      <td>22</td>\n",
       "      <td>982</td>\n",
       "      <td>1</td>\n",
       "    </tr>\n",
       "    <tr>\n",
       "      <th>3</th>\n",
       "      <td>3</td>\n",
       "      <td>3434</td>\n",
       "      <td>6</td>\n",
       "      <td>0</td>\n",
       "      <td>1</td>\n",
       "      <td>6</td>\n",
       "      <td>0</td>\n",
       "      <td>0</td>\n",
       "      <td>310</td>\n",
       "      <td>33</td>\n",
       "      <td>2049</td>\n",
       "      <td>0</td>\n",
       "    </tr>\n",
       "    <tr>\n",
       "      <th>4</th>\n",
       "      <td>4</td>\n",
       "      <td>6969</td>\n",
       "      <td>6</td>\n",
       "      <td>1</td>\n",
       "      <td>0</td>\n",
       "      <td>5</td>\n",
       "      <td>1</td>\n",
       "      <td>1</td>\n",
       "      <td>214</td>\n",
       "      <td>41</td>\n",
       "      <td>1978</td>\n",
       "      <td>0</td>\n",
       "    </tr>\n",
       "  </tbody>\n",
       "</table>\n",
       "</div>"
      ],
      "text/plain": [
       "   index  OrderID  Date  Status  Fulfilment  Category  CourierStatus  Qty  \\\n",
       "0      0     5516     6       0           1         4              0    0   \n",
       "1      1     1120     6       2           1         7              1    1   \n",
       "2      2     3564     6       1           0         7              1    1   \n",
       "3      3     3434     6       0           1         6              0    0   \n",
       "4      4     6969     6       1           0         5              1    1   \n",
       "\n",
       "   Amount  shipstate  shippostalcode  B2B  \n",
       "0     258         22             879    0  \n",
       "1      85         18            1735    0  \n",
       "2      35         22             982    1  \n",
       "3     310         33            2049    0  \n",
       "4     214         41            1978    0  "
      ]
     },
     "execution_count": 22,
     "metadata": {},
     "output_type": "execute_result"
    }
   ],
   "source": [
    "data.head()"
   ]
  },
  {
   "cell_type": "code",
   "execution_count": 23,
   "id": "e9973fd1",
   "metadata": {},
   "outputs": [
    {
     "data": {
      "text/html": [
       "<div>\n",
       "<style scoped>\n",
       "    .dataframe tbody tr th:only-of-type {\n",
       "        vertical-align: middle;\n",
       "    }\n",
       "\n",
       "    .dataframe tbody tr th {\n",
       "        vertical-align: top;\n",
       "    }\n",
       "\n",
       "    .dataframe thead th {\n",
       "        text-align: right;\n",
       "    }\n",
       "</style>\n",
       "<table border=\"1\" class=\"dataframe\">\n",
       "  <thead>\n",
       "    <tr style=\"text-align: right;\">\n",
       "      <th></th>\n",
       "      <th>index</th>\n",
       "      <th>OrderID</th>\n",
       "      <th>Date</th>\n",
       "      <th>Status</th>\n",
       "      <th>Fulfilment</th>\n",
       "      <th>Category</th>\n",
       "      <th>CourierStatus</th>\n",
       "      <th>Qty</th>\n",
       "      <th>Amount</th>\n",
       "      <th>shipstate</th>\n",
       "      <th>shippostalcode</th>\n",
       "      <th>B2B</th>\n",
       "    </tr>\n",
       "  </thead>\n",
       "  <tbody>\n",
       "    <tr>\n",
       "      <th>index</th>\n",
       "      <td>1.000000</td>\n",
       "      <td>-0.001681</td>\n",
       "      <td>-0.988940</td>\n",
       "      <td>0.095101</td>\n",
       "      <td>0.152822</td>\n",
       "      <td>-0.016270</td>\n",
       "      <td>-0.013522</td>\n",
       "      <td>-0.009866</td>\n",
       "      <td>0.003184</td>\n",
       "      <td>0.007612</td>\n",
       "      <td>-0.019398</td>\n",
       "      <td>0.005785</td>\n",
       "    </tr>\n",
       "    <tr>\n",
       "      <th>OrderID</th>\n",
       "      <td>-0.001681</td>\n",
       "      <td>1.000000</td>\n",
       "      <td>0.001963</td>\n",
       "      <td>0.007799</td>\n",
       "      <td>0.005001</td>\n",
       "      <td>0.013041</td>\n",
       "      <td>0.002206</td>\n",
       "      <td>0.007335</td>\n",
       "      <td>-0.046046</td>\n",
       "      <td>0.006275</td>\n",
       "      <td>-0.020977</td>\n",
       "      <td>-0.007175</td>\n",
       "    </tr>\n",
       "    <tr>\n",
       "      <th>Date</th>\n",
       "      <td>-0.988940</td>\n",
       "      <td>0.001963</td>\n",
       "      <td>1.000000</td>\n",
       "      <td>-0.096387</td>\n",
       "      <td>-0.151005</td>\n",
       "      <td>0.016232</td>\n",
       "      <td>0.011805</td>\n",
       "      <td>0.008926</td>\n",
       "      <td>-0.003709</td>\n",
       "      <td>-0.008115</td>\n",
       "      <td>0.021747</td>\n",
       "      <td>-0.000591</td>\n",
       "    </tr>\n",
       "    <tr>\n",
       "      <th>Status</th>\n",
       "      <td>0.095101</td>\n",
       "      <td>0.007799</td>\n",
       "      <td>-0.096387</td>\n",
       "      <td>1.000000</td>\n",
       "      <td>0.541430</td>\n",
       "      <td>0.001075</td>\n",
       "      <td>0.276008</td>\n",
       "      <td>0.480374</td>\n",
       "      <td>-0.012875</td>\n",
       "      <td>-0.004414</td>\n",
       "      <td>-0.009841</td>\n",
       "      <td>0.020800</td>\n",
       "    </tr>\n",
       "    <tr>\n",
       "      <th>Fulfilment</th>\n",
       "      <td>0.152822</td>\n",
       "      <td>0.005001</td>\n",
       "      <td>-0.151005</td>\n",
       "      <td>0.541430</td>\n",
       "      <td>1.000000</td>\n",
       "      <td>0.020290</td>\n",
       "      <td>-0.212026</td>\n",
       "      <td>-0.160327</td>\n",
       "      <td>-0.018459</td>\n",
       "      <td>-0.002416</td>\n",
       "      <td>-0.021267</td>\n",
       "      <td>0.008430</td>\n",
       "    </tr>\n",
       "    <tr>\n",
       "      <th>Category</th>\n",
       "      <td>-0.016270</td>\n",
       "      <td>0.013041</td>\n",
       "      <td>0.016232</td>\n",
       "      <td>0.001075</td>\n",
       "      <td>0.020290</td>\n",
       "      <td>1.000000</td>\n",
       "      <td>-0.012406</td>\n",
       "      <td>-0.011249</td>\n",
       "      <td>-0.565627</td>\n",
       "      <td>0.038870</td>\n",
       "      <td>0.073004</td>\n",
       "      <td>-0.004424</td>\n",
       "    </tr>\n",
       "    <tr>\n",
       "      <th>CourierStatus</th>\n",
       "      <td>-0.013522</td>\n",
       "      <td>0.002206</td>\n",
       "      <td>0.011805</td>\n",
       "      <td>0.276008</td>\n",
       "      <td>-0.212026</td>\n",
       "      <td>-0.012406</td>\n",
       "      <td>1.000000</td>\n",
       "      <td>0.840996</td>\n",
       "      <td>-0.013829</td>\n",
       "      <td>-0.022510</td>\n",
       "      <td>0.006223</td>\n",
       "      <td>0.001306</td>\n",
       "    </tr>\n",
       "    <tr>\n",
       "      <th>Qty</th>\n",
       "      <td>-0.009866</td>\n",
       "      <td>0.007335</td>\n",
       "      <td>0.008926</td>\n",
       "      <td>0.480374</td>\n",
       "      <td>-0.160327</td>\n",
       "      <td>-0.011249</td>\n",
       "      <td>0.840996</td>\n",
       "      <td>1.000000</td>\n",
       "      <td>-0.009344</td>\n",
       "      <td>-0.018538</td>\n",
       "      <td>-0.002698</td>\n",
       "      <td>0.010566</td>\n",
       "    </tr>\n",
       "    <tr>\n",
       "      <th>Amount</th>\n",
       "      <td>0.003184</td>\n",
       "      <td>-0.046046</td>\n",
       "      <td>-0.003709</td>\n",
       "      <td>-0.012875</td>\n",
       "      <td>-0.018459</td>\n",
       "      <td>-0.565627</td>\n",
       "      <td>-0.013829</td>\n",
       "      <td>-0.009344</td>\n",
       "      <td>1.000000</td>\n",
       "      <td>-0.011907</td>\n",
       "      <td>-0.046252</td>\n",
       "      <td>0.008448</td>\n",
       "    </tr>\n",
       "    <tr>\n",
       "      <th>shipstate</th>\n",
       "      <td>0.007612</td>\n",
       "      <td>0.006275</td>\n",
       "      <td>-0.008115</td>\n",
       "      <td>-0.004414</td>\n",
       "      <td>-0.002416</td>\n",
       "      <td>0.038870</td>\n",
       "      <td>-0.022510</td>\n",
       "      <td>-0.018538</td>\n",
       "      <td>-0.011907</td>\n",
       "      <td>1.000000</td>\n",
       "      <td>0.056602</td>\n",
       "      <td>0.019091</td>\n",
       "    </tr>\n",
       "    <tr>\n",
       "      <th>shippostalcode</th>\n",
       "      <td>-0.019398</td>\n",
       "      <td>-0.020977</td>\n",
       "      <td>0.021747</td>\n",
       "      <td>-0.009841</td>\n",
       "      <td>-0.021267</td>\n",
       "      <td>0.073004</td>\n",
       "      <td>0.006223</td>\n",
       "      <td>-0.002698</td>\n",
       "      <td>-0.046252</td>\n",
       "      <td>0.056602</td>\n",
       "      <td>1.000000</td>\n",
       "      <td>-0.038300</td>\n",
       "    </tr>\n",
       "    <tr>\n",
       "      <th>B2B</th>\n",
       "      <td>0.005785</td>\n",
       "      <td>-0.007175</td>\n",
       "      <td>-0.000591</td>\n",
       "      <td>0.020800</td>\n",
       "      <td>0.008430</td>\n",
       "      <td>-0.004424</td>\n",
       "      <td>0.001306</td>\n",
       "      <td>0.010566</td>\n",
       "      <td>0.008448</td>\n",
       "      <td>0.019091</td>\n",
       "      <td>-0.038300</td>\n",
       "      <td>1.000000</td>\n",
       "    </tr>\n",
       "  </tbody>\n",
       "</table>\n",
       "</div>"
      ],
      "text/plain": [
       "                   index   OrderID      Date    Status  Fulfilment  Category  \\\n",
       "index           1.000000 -0.001681 -0.988940  0.095101    0.152822 -0.016270   \n",
       "OrderID        -0.001681  1.000000  0.001963  0.007799    0.005001  0.013041   \n",
       "Date           -0.988940  0.001963  1.000000 -0.096387   -0.151005  0.016232   \n",
       "Status          0.095101  0.007799 -0.096387  1.000000    0.541430  0.001075   \n",
       "Fulfilment      0.152822  0.005001 -0.151005  0.541430    1.000000  0.020290   \n",
       "Category       -0.016270  0.013041  0.016232  0.001075    0.020290  1.000000   \n",
       "CourierStatus  -0.013522  0.002206  0.011805  0.276008   -0.212026 -0.012406   \n",
       "Qty            -0.009866  0.007335  0.008926  0.480374   -0.160327 -0.011249   \n",
       "Amount          0.003184 -0.046046 -0.003709 -0.012875   -0.018459 -0.565627   \n",
       "shipstate       0.007612  0.006275 -0.008115 -0.004414   -0.002416  0.038870   \n",
       "shippostalcode -0.019398 -0.020977  0.021747 -0.009841   -0.021267  0.073004   \n",
       "B2B             0.005785 -0.007175 -0.000591  0.020800    0.008430 -0.004424   \n",
       "\n",
       "                CourierStatus       Qty    Amount  shipstate  shippostalcode  \\\n",
       "index               -0.013522 -0.009866  0.003184   0.007612       -0.019398   \n",
       "OrderID              0.002206  0.007335 -0.046046   0.006275       -0.020977   \n",
       "Date                 0.011805  0.008926 -0.003709  -0.008115        0.021747   \n",
       "Status               0.276008  0.480374 -0.012875  -0.004414       -0.009841   \n",
       "Fulfilment          -0.212026 -0.160327 -0.018459  -0.002416       -0.021267   \n",
       "Category            -0.012406 -0.011249 -0.565627   0.038870        0.073004   \n",
       "CourierStatus        1.000000  0.840996 -0.013829  -0.022510        0.006223   \n",
       "Qty                  0.840996  1.000000 -0.009344  -0.018538       -0.002698   \n",
       "Amount              -0.013829 -0.009344  1.000000  -0.011907       -0.046252   \n",
       "shipstate           -0.022510 -0.018538 -0.011907   1.000000        0.056602   \n",
       "shippostalcode       0.006223 -0.002698 -0.046252   0.056602        1.000000   \n",
       "B2B                  0.001306  0.010566  0.008448   0.019091       -0.038300   \n",
       "\n",
       "                     B2B  \n",
       "index           0.005785  \n",
       "OrderID        -0.007175  \n",
       "Date           -0.000591  \n",
       "Status          0.020800  \n",
       "Fulfilment      0.008430  \n",
       "Category       -0.004424  \n",
       "CourierStatus   0.001306  \n",
       "Qty             0.010566  \n",
       "Amount          0.008448  \n",
       "shipstate       0.019091  \n",
       "shippostalcode -0.038300  \n",
       "B2B             1.000000  "
      ]
     },
     "execution_count": 23,
     "metadata": {},
     "output_type": "execute_result"
    }
   ],
   "source": [
    "c=data.corr()\n",
    "c"
   ]
  },
  {
   "cell_type": "code",
   "execution_count": 24,
   "id": "7ad9be4d",
   "metadata": {},
   "outputs": [],
   "source": [
    "#dividing the dataset\n",
    "data_x=data.iloc[:,1:11]\n",
    "data_y=data.iloc[:,11]"
   ]
  },
  {
   "cell_type": "code",
   "execution_count": 25,
   "id": "3b26f073",
   "metadata": {},
   "outputs": [
    {
     "name": "stdout",
     "output_type": "stream",
     "text": [
      "       OrderID  Date  Status  Fulfilment  Category  CourierStatus  Qty  \\\n",
      "0         5516     6       0           1         4              0    0   \n",
      "1         1120     6       2           1         7              1    1   \n",
      "2         3564     6       1           0         7              1    1   \n",
      "3         3434     6       0           1         6              0    0   \n",
      "4         6969     6       1           0         5              1    1   \n",
      "...        ...   ...     ...         ...       ...            ...  ...   \n",
      "9998      6653     0       1           0         4              1    1   \n",
      "9999      3684     0       0           1         7              0    0   \n",
      "10000      758     0       2           1         4              1    1   \n",
      "10001     4057     0       2           1         4              1    1   \n",
      "10002     5118     0       1           0         4              1    1   \n",
      "\n",
      "       Amount  shipstate  shippostalcode  \n",
      "0         258         22             879  \n",
      "1          85         18            1735  \n",
      "2          35         22             982  \n",
      "3         310         33            2049  \n",
      "4         214         41            1978  \n",
      "...       ...        ...             ...  \n",
      "9998      409         42            1384  \n",
      "9999       33         42            1399  \n",
      "10000     341         22            1145  \n",
      "10001     228         44             320  \n",
      "10002     200         41            2169  \n",
      "\n",
      "[10003 rows x 10 columns]\n"
     ]
    }
   ],
   "source": [
    "print(data_x)"
   ]
  },
  {
   "cell_type": "code",
   "execution_count": 26,
   "id": "3e5e0cc3",
   "metadata": {},
   "outputs": [
    {
     "name": "stdout",
     "output_type": "stream",
     "text": [
      "0        0\n",
      "1        0\n",
      "2        1\n",
      "3        0\n",
      "4        0\n",
      "        ..\n",
      "9998     0\n",
      "9999     0\n",
      "10000    0\n",
      "10001    0\n",
      "10002    0\n",
      "Name: B2B, Length: 10003, dtype: int64\n"
     ]
    }
   ],
   "source": [
    "print(data_y)"
   ]
  },
  {
   "cell_type": "code",
   "execution_count": 27,
   "id": "fda7eb13",
   "metadata": {},
   "outputs": [],
   "source": [
    "from sklearn.model_selection import train_test_split"
   ]
  },
  {
   "cell_type": "code",
   "execution_count": 28,
   "id": "06c22873",
   "metadata": {},
   "outputs": [],
   "source": [
    "x_train,x_test,y_train,y_test=train_test_split(data_x,data_y,test_size=0.3,random_state=205)"
   ]
  },
  {
   "cell_type": "code",
   "execution_count": 29,
   "id": "3a3bf844",
   "metadata": {},
   "outputs": [
    {
     "data": {
      "text/plain": [
       "((7002, 10), (3001, 10), (7002,), (3001,))"
      ]
     },
     "execution_count": 29,
     "metadata": {},
     "output_type": "execute_result"
    }
   ],
   "source": [
    "x_train.shape,x_test.shape,y_train.shape,y_test.shape"
   ]
  },
  {
   "cell_type": "code",
   "execution_count": 37,
   "id": "1a499608",
   "metadata": {},
   "outputs": [],
   "source": [
    "#logistic regression \n",
    "from sklearn.linear_model import LogisticRegression\n",
    "from sklearn.metrics import accuracy_score\n",
    "lr = LogisticRegression()"
   ]
  },
  {
   "cell_type": "code",
   "execution_count": 38,
   "id": "ca07a606",
   "metadata": {},
   "outputs": [
    {
     "name": "stderr",
     "output_type": "stream",
     "text": [
      "C:\\Users\\gayat\\anaconda3\\lib\\site-packages\\sklearn\\linear_model\\_logistic.py:458: ConvergenceWarning: lbfgs failed to converge (status=1):\n",
      "STOP: TOTAL NO. of ITERATIONS REACHED LIMIT.\n",
      "\n",
      "Increase the number of iterations (max_iter) or scale the data as shown in:\n",
      "    https://scikit-learn.org/stable/modules/preprocessing.html\n",
      "Please also refer to the documentation for alternative solver options:\n",
      "    https://scikit-learn.org/stable/modules/linear_model.html#logistic-regression\n",
      "  n_iter_i = _check_optimize_result(\n"
     ]
    }
   ],
   "source": [
    "lr.fit(x_train, y_train)\n",
    "y_pred = lr.predict(x_test)"
   ]
  },
  {
   "cell_type": "code",
   "execution_count": 39,
   "id": "7e60b419",
   "metadata": {},
   "outputs": [
    {
     "name": "stdout",
     "output_type": "stream",
     "text": [
      "Accuracy: 0.9913362212595801\n"
     ]
    }
   ],
   "source": [
    "accuracy = accuracy_score(y_test, y_pred) \n",
    "print(\"Accuracy:\", accuracy)"
   ]
  },
  {
   "cell_type": "code",
   "execution_count": 40,
   "id": "b732d5bb",
   "metadata": {},
   "outputs": [],
   "source": [
    "# Random Forest Classifier\n",
    "\n",
    "from sklearn.ensemble import RandomForestClassifier"
   ]
  },
  {
   "cell_type": "code",
   "execution_count": 43,
   "id": "26365658",
   "metadata": {},
   "outputs": [],
   "source": [
    "rf_classifier = RandomForestClassifier()\n",
    "rf_classifier.fit(x_train, y_train)\n",
    "y_pred = rf_classifier.predict(x_test)"
   ]
  },
  {
   "cell_type": "code",
   "execution_count": 44,
   "id": "d098cb2a",
   "metadata": {},
   "outputs": [
    {
     "name": "stdout",
     "output_type": "stream",
     "text": [
      "Accuracy: 0.9913362212595801\n"
     ]
    }
   ],
   "source": [
    "accuracy = accuracy_score(y_test, y_pred) \n",
    "print(\"Accuracy:\", accuracy)"
   ]
  },
  {
   "cell_type": "code",
   "execution_count": 52,
   "id": "8b5fd804",
   "metadata": {},
   "outputs": [],
   "source": [
    "# Decision Tree Algorithm\n",
    "\n",
    "from sklearn.tree import DecisionTreeRegressor\n",
    "dtc = DecisionTreeRegressor()"
   ]
  },
  {
   "cell_type": "code",
   "execution_count": 53,
   "id": "88c272d4",
   "metadata": {},
   "outputs": [],
   "source": [
    "dtc.fit(x_train, y_train)\n",
    "y_pred = dtc.predict(x_test)"
   ]
  },
  {
   "cell_type": "code",
   "execution_count": 54,
   "id": "3020bd79",
   "metadata": {},
   "outputs": [
    {
     "name": "stdout",
     "output_type": "stream",
     "text": [
      "Accuracy: 0.9853382205931356\n"
     ]
    }
   ],
   "source": [
    "accuracy = accuracy_score(y_test, y_pred) \n",
    "print(\"Accuracy:\", accuracy)"
   ]
  },
  {
   "cell_type": "code",
   "execution_count": null,
   "id": "7a2638b0",
   "metadata": {},
   "outputs": [],
   "source": []
  }
 ],
 "metadata": {
  "kernelspec": {
   "display_name": "Python 3 (ipykernel)",
   "language": "python",
   "name": "python3"
  },
  "language_info": {
   "codemirror_mode": {
    "name": "ipython",
    "version": 3
   },
   "file_extension": ".py",
   "mimetype": "text/x-python",
   "name": "python",
   "nbconvert_exporter": "python",
   "pygments_lexer": "ipython3",
   "version": "3.10.9"
  }
 },
 "nbformat": 4,
 "nbformat_minor": 5
}
